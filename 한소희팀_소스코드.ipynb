{
 "cells": [
  {
   "cell_type": "markdown",
   "metadata": {},
   "source": [
    "# Test 데이터 전처리"
   ]
  },
  {
   "cell_type": "code",
   "execution_count": 30,
   "metadata": {},
   "outputs": [],
   "source": [
    "# 필요한 라이브러리를 불러옵니다.\n",
    "import pandas as pd\n",
    "import numpy as np\n",
    "import glob\n",
    "import matplotlib.pyplot as plt"
   ]
  },
  {
   "cell_type": "code",
   "execution_count": 31,
   "metadata": {},
   "outputs": [],
   "source": [
    "#각 kw(모터) 값을 불러옵니다. \n",
    "\n",
    "#bearing의 kw 값 로드\n",
    "bea=[2.2,3.7,5.5,7.5,11,15,18.5]\n",
    "#belt의 kw 값 로드\n",
    "bel=[2.2,5.5,7.5,11,15,18.5,22,55]\n",
    "\n",
    "#misalignment의 kw값 로드 - 이때, Current의 misalignment kw는 cumis로, Kimm&Vibration의 kw는 (값이 같으므로) vikimis로 로드\n",
    "cumis=[2.2,3.7,5.5,7.5,11,22,30,37]\n",
    "vikimis=[2.2,3.7,3.75,5.5,7.5,11,22,30,37]\n",
    "\n",
    "#unbalance의 kw값 로드 - 이때, Current&Kimm의 kw는 (값이 같으므로) cukiunb로, Vibration의 kw는 viunb로 로드\n",
    "cukiunb=[2.2,3.7,5.5,11,15,22,55]\n",
    "viunb=[2.2,5.5,7.5,11,15,22,55]\n",
    "\n",
    "num=['a','b','c','d','e','f','g','h','i']"
   ]
  },
  {
   "cell_type": "code",
   "execution_count": 32,
   "metadata": {},
   "outputs": [],
   "source": [
    "# 진동/전류 구분 & label 값에 따른 kw값을 할당해주는 함수를 만듭니다.\n",
    "\n",
    "def kw_result(kind,label):\n",
    "    if label == 'bearing': kww=bea\n",
    "    elif label == 'belt': kww=bel\n",
    "    elif kind=='current(전류)' and label=='misalignment': kww=cumis\n",
    "    elif kind!='current(전류)' and label=='misalignment': kww=vikimis\n",
    "    elif kind=='vibration(무선진동)' and label=='unbalance': kww=viunb\n",
    "    elif kind!='vibration(무선진동)' and label=='unbalance': kww=cukiunb\n",
    "    return kww"
   ]
  },
  {
   "cell_type": "code",
   "execution_count": 33,
   "metadata": {},
   "outputs": [],
   "source": [
    "# 각 csv 파일의 경로를 불러오는 함수를 만듭니다.\n",
    "\n",
    "def link(kww,label,op_or_no,kind):\n",
    "    a=np.array(glob.glob('daejeon_data/'+str(kind)+'/'+str(label)+'_'+str(kww)+'kw_*/*/*'+str(op_or_no)+'-csv/*.csv'))\n",
    "    return a"
   ]
  },
  {
   "cell_type": "code",
   "execution_count": 34,
   "metadata": {},
   "outputs": [],
   "source": [
    "# 각 csv 파일을 DataFrame 형태로 각각 저장하는 함수를 만듭니다.\n",
    "\n",
    "def file_link(kind,label,op_or_no):\n",
    "    kww=kw_result(kind,label)\n",
    "    for i,n in zip(kww,num):\n",
    "        globals()['df_{}'.format(n)]=link(i,label,op_or_no,kind)"
   ]
  },
  {
   "cell_type": "code",
   "execution_count": 35,
   "metadata": {},
   "outputs": [],
   "source": [
    "# Current(전류) 데이터 중 특정 label에 해당하는 DF들을 출력하여 하나의 DF로 합친 후, 전처리를 진행하는 함수를 만듭니다.\n",
    "\n",
    "def CurrentDf(kind,label,op_or_no):\n",
    "    kww=kw_result(kind,label)\n",
    "    file_link(kind,label,op_or_no)\n",
    "    for n,a in zip(num, range(0,len(kww))):\n",
    "        df= pd.concat([pd.read_csv(i,header=14,names=['R_Current','S_Current','T_Current','drop'],usecols=['R_Current','S_Current','T_Current']) for i in globals()['df_{}'.format(n)]]).reset_index(drop=True)\n",
    "        df['kw']=kww[a]\n",
    "        df['op_or_no']=op_or_no\n",
    "        globals()[str(kind)[:2]+'DF_'+str(label)[:3]+'_'+str(op_or_no)+'_{}'.format(n)]=df"
   ]
  },
  {
   "cell_type": "code",
   "execution_count": 36,
   "metadata": {},
   "outputs": [],
   "source": [
    "# Kimm(유선진동) 데이터 중 특정 label에 해당하는 DF들을 출력하여 하나의 DF로 합친 후, 전처리를 진행하는 함수를 만듭니다.\n",
    "def KimmDf(kind,label,op_or_no):\n",
    "    kww=kw_result(kind,label)\n",
    "    file_link(kind,label,op_or_no)\n",
    "    for n,a in zip(num, range(0,len(kww))):\n",
    "        df= pd.concat([pd.read_csv(i,header=3,names=['Kimm','drop'],usecols=['Kimm']) for i in globals()['df_{}'.format(n)]]).reset_index(drop=True)\n",
    "        df['kw']=kww[a]\n",
    "        df['op_or_no']=op_or_no\n",
    "        globals()[str(kind)[:2]+'DF_'+str(label)[:3]+'_'+str(op_or_no)+'_{}'.format(n)]=df"
   ]
  },
  {
   "cell_type": "code",
   "execution_count": 37,
   "metadata": {},
   "outputs": [],
   "source": [
    "# Vibration(무선진동) 데이터 중 특정 label에 해당하는 DF들을 출력하여 하나의 DF로 합친 후, 전처리를 진행하는 함수를 만듭니다.\n",
    "\n",
    "def VibrationDf(kind,label,op_or_no):\n",
    "    kww=kw_result(kind,label)\n",
    "    file_link(kind,label,op_or_no)\n",
    "    for n,a in zip(num, range(0,len(kww))):\n",
    "        df= pd.concat([pd.read_csv(i,header=3,names=['Vibration','dropp'],usecols=['Vibration']) for i in globals()['df_{}'.format(n)]]).reset_index(drop=True)\n",
    "        df['kw']=kww[a]\n",
    "        df['op_or_no']=op_or_no\n",
    "        globals()[str(kind)[:2]+'DF_'+str(label)[:3]+'_'+str(op_or_no)+'_{}'.format(n)]=df"
   ]
  },
  {
   "cell_type": "code",
   "execution_count": 39,
   "metadata": {},
   "outputs": [],
   "source": [
    "# 위 만든 함수들을 한꺼번에 수행할 수 있도록, 조건에 맞게 API를 사용하는 함수를 만듭니다.\n",
    "\n",
    "def multi(kind,label,op_or_no):\n",
    "    kww=kw_result(kind,label)\n",
    "    if kind == 'current(전류)': CurrentDf(kind,label,op_or_no)\n",
    "    elif kind =='kimm(유선진동)': KimmDf(kind,label,op_or_no)\n",
    "    else : VibrationDf(kind,label,op_or_no)"
   ]
  },
  {
   "cell_type": "code",
   "execution_count": 40,
   "metadata": {},
   "outputs": [],
   "source": [
    "# 데이터프레임을 kind와 label 별로 합치는 함수를 만듭니다.\n",
    "\n",
    "def con(kind,label):\n",
    "    df_1= pd.concat([globals()[str(kind)[:2]+'DF_'+str(label)[:3]+'_op_{}'.format(n)] for n in num[:len(kw_result(kind,label))]])\n",
    "    df_2= pd.concat([globals()[str(kind)[:2]+'DF_'+str(label)[:3]+'_no_{}'.format(n)] for n in num[:len(kw_result(kind,label))]])\n",
    "    df = pd.concat([df_1,df_2])\n",
    "    return df"
   ]
  },
  {
   "cell_type": "code",
   "execution_count": 41,
   "metadata": {},
   "outputs": [],
   "source": [
    "# for 문을  활용해 조건 별로 multi 함수(위 만든 함수들을 한꺼번에 수행할 수 있도록, 조건에 맞게 API를 사용하는 함수)를 실행합니다.\n",
    "for a in ['current(전류)','kimm(유선진동)','vibration(무선진동)']:\n",
    "    for b in ['bearing','belt','misalignment','unbalance']:\n",
    "        for c in ['op','no']:\n",
    "            multi(a,b,c)"
   ]
  },
  {
   "cell_type": "code",
   "execution_count": 42,
   "metadata": {},
   "outputs": [],
   "source": [
    "# for 문을 활용해 con 함수(데이터프레임을 kind와 label 별로 합치는 함수)를 실행합니다.\n",
    "for a in ['current(전류)','kimm(유선진동)','vibration(무선진동)']:\n",
    "    for b in ['bearing','belt','misalignment','unbalance']:\n",
    "        globals()['DF_'+str(a)[:2]+str(b)[:3]]=con(a,b)"
   ]
  },
  {
   "cell_type": "markdown",
   "metadata": {},
   "source": [
    "# Train 데이터 전처리"
   ]
  },
  {
   "cell_type": "markdown",
   "metadata": {},
   "source": [
    "### Submission_Commit CSV 파일 처리"
   ]
  },
  {
   "cell_type": "code",
   "execution_count": 53,
   "metadata": {},
   "outputs": [],
   "source": [
    "Submission_Commit=pd.read_csv('dataSet_Submission_Re/Submission_Commit.csv')"
   ]
  },
  {
   "cell_type": "code",
   "execution_count": 56,
   "metadata": {},
   "outputs": [
    {
     "data": {
      "text/html": [
       "<div>\n",
       "<style scoped>\n",
       "    .dataframe tbody tr th:only-of-type {\n",
       "        vertical-align: middle;\n",
       "    }\n",
       "\n",
       "    .dataframe tbody tr th {\n",
       "        vertical-align: top;\n",
       "    }\n",
       "\n",
       "    .dataframe thead th {\n",
       "        text-align: right;\n",
       "    }\n",
       "</style>\n",
       "<table border=\"1\" class=\"dataframe\">\n",
       "  <thead>\n",
       "    <tr style=\"text-align: right;\">\n",
       "      <th></th>\n",
       "      <th>File_name</th>\n",
       "      <th>Category</th>\n",
       "      <th>Motor</th>\n",
       "      <th>Label</th>\n",
       "    </tr>\n",
       "  </thead>\n",
       "  <tbody>\n",
       "    <tr>\n",
       "      <td>0</td>\n",
       "      <td>001</td>\n",
       "      <td>Kimm</td>\n",
       "      <td>15.0</td>\n",
       "      <td>NaN</td>\n",
       "    </tr>\n",
       "    <tr>\n",
       "      <td>1</td>\n",
       "      <td>002</td>\n",
       "      <td>Kimm</td>\n",
       "      <td>15.0</td>\n",
       "      <td>NaN</td>\n",
       "    </tr>\n",
       "    <tr>\n",
       "      <td>2</td>\n",
       "      <td>003</td>\n",
       "      <td>Vibration</td>\n",
       "      <td>7.5</td>\n",
       "      <td>NaN</td>\n",
       "    </tr>\n",
       "    <tr>\n",
       "      <td>3</td>\n",
       "      <td>004</td>\n",
       "      <td>Current</td>\n",
       "      <td>5.5</td>\n",
       "      <td>NaN</td>\n",
       "    </tr>\n",
       "    <tr>\n",
       "      <td>4</td>\n",
       "      <td>005</td>\n",
       "      <td>Vibration</td>\n",
       "      <td>11.0</td>\n",
       "      <td>NaN</td>\n",
       "    </tr>\n",
       "    <tr>\n",
       "      <td>...</td>\n",
       "      <td>...</td>\n",
       "      <td>...</td>\n",
       "      <td>...</td>\n",
       "      <td>...</td>\n",
       "    </tr>\n",
       "    <tr>\n",
       "      <td>146</td>\n",
       "      <td>146</td>\n",
       "      <td>Current</td>\n",
       "      <td>5.5</td>\n",
       "      <td>NaN</td>\n",
       "    </tr>\n",
       "    <tr>\n",
       "      <td>147</td>\n",
       "      <td>147</td>\n",
       "      <td>Current</td>\n",
       "      <td>55.0</td>\n",
       "      <td>NaN</td>\n",
       "    </tr>\n",
       "    <tr>\n",
       "      <td>148</td>\n",
       "      <td>148</td>\n",
       "      <td>Vibration</td>\n",
       "      <td>15.0</td>\n",
       "      <td>NaN</td>\n",
       "    </tr>\n",
       "    <tr>\n",
       "      <td>149</td>\n",
       "      <td>149</td>\n",
       "      <td>Kimm</td>\n",
       "      <td>18.5</td>\n",
       "      <td>NaN</td>\n",
       "    </tr>\n",
       "    <tr>\n",
       "      <td>150</td>\n",
       "      <td>150</td>\n",
       "      <td>Current</td>\n",
       "      <td>7.5</td>\n",
       "      <td>NaN</td>\n",
       "    </tr>\n",
       "  </tbody>\n",
       "</table>\n",
       "<p>151 rows × 4 columns</p>\n",
       "</div>"
      ],
      "text/plain": [
       "    File_name   Category  Motor  Label\n",
       "0         001       Kimm   15.0    NaN\n",
       "1         002       Kimm   15.0    NaN\n",
       "2         003  Vibration    7.5    NaN\n",
       "3         004    Current    5.5    NaN\n",
       "4         005  Vibration   11.0    NaN\n",
       "..        ...        ...    ...    ...\n",
       "146       146    Current    5.5    NaN\n",
       "147       147    Current   55.0    NaN\n",
       "148       148  Vibration   15.0    NaN\n",
       "149       149       Kimm   18.5    NaN\n",
       "150       150    Current    7.5    NaN\n",
       "\n",
       "[151 rows x 4 columns]"
      ]
     },
     "execution_count": 56,
     "metadata": {},
     "output_type": "execute_result"
    }
   ],
   "source": [
    "# zfill을 활용해, 타 Test 데이터의 명칭처럼 변경해줍니다.\n",
    "Submission_Commit['File_name']=Submission_Commit['File_name'].astype(str).str.zfill(3)\n",
    "Submission_Commit"
   ]
  },
  {
   "cell_type": "markdown",
   "metadata": {},
   "source": [
    "### Current 파일 처리"
   ]
  },
  {
   "cell_type": "code",
   "execution_count": 291,
   "metadata": {},
   "outputs": [],
   "source": [
    "# 카테고리가 Current(전류)인 데이터들의 파일 링크를 불러옵니다.\n",
    "Current_test_links=[]\n",
    "Current_test_numbers = Submission_Commit[Submission_Commit['Category']=='Current']['File_name'].values\n",
    "Current_test_mot = Submission_Commit[Submission_Commit['Category']=='Current']['Motor'].values\n",
    "\n",
    "for i in Current_test_numbers:\n",
    "    a = glob.glob('dataSet_Submission_Re/'+str(i)+'.csv')\n",
    "    a = str(a).replace(\"[\", \"\").replace(\"]\",\"\").replace(\"'\",\"\")\n",
    "    Current_test_links.append(a)"
   ]
  },
  {
   "cell_type": "code",
   "execution_count": 292,
   "metadata": {},
   "outputs": [],
   "source": [
    "# Current 에 해당하는 Test 데이터의 셋을 데이터프레임화 합니다.\n",
    "for i in range(0,len(Current_test_links)):\n",
    "    df=pd.read_csv(Current_test_links[i],names=['s','R_Current','S_Current','T_Current'],skiprows=1 )\n",
    "    df['kw']=pd.to_numeric(Current_test_mot[i])\n",
    "    df['File_name']=pd.to_numeric(Current_test_numbers[i])\n",
    "    df.drop(['s'],axis=1,inplace=True)\n",
    "    globals()['df_{}'.format(i)]=df"
   ]
  },
  {
   "cell_type": "code",
   "execution_count": 353,
   "metadata": {},
   "outputs": [],
   "source": [
    "Current_test= pd.concat([df_0,df_1,df_2,df_3,df_4,df_5,df_6,df_7,df_8,df_9,df_10,df_11,df_12,df_13,df_14,df_15,df_16,df_17,df_18,df_19,df_20,df_21,df_22,df_23,df_24,df_25,df_26,df_27,df_28,df_29,df_30,df_31,df_32,df_33,df_34,df_35,df_36,df_37,df_38,df_39,df_40,df_41,df_42,df_43,df_44,df_45,df_46,df_47,df_48,df_49]).reset_index(drop=True)\n",
    "Current_test['File_name']=Current_test['File_name'].astype(str).str.zfill(3)"
   ]
  },
  {
   "cell_type": "code",
   "execution_count": 358,
   "metadata": {},
   "outputs": [
    {
     "data": {
      "text/html": [
       "<div>\n",
       "<style scoped>\n",
       "    .dataframe tbody tr th:only-of-type {\n",
       "        vertical-align: middle;\n",
       "    }\n",
       "\n",
       "    .dataframe tbody tr th {\n",
       "        vertical-align: top;\n",
       "    }\n",
       "\n",
       "    .dataframe thead th {\n",
       "        text-align: right;\n",
       "    }\n",
       "</style>\n",
       "<table border=\"1\" class=\"dataframe\">\n",
       "  <thead>\n",
       "    <tr style=\"text-align: right;\">\n",
       "      <th></th>\n",
       "      <th>File_name</th>\n",
       "      <th>R_Current</th>\n",
       "      <th>S_Current</th>\n",
       "      <th>T_Current</th>\n",
       "      <th>kw</th>\n",
       "      <th>value</th>\n",
       "    </tr>\n",
       "  </thead>\n",
       "  <tbody>\n",
       "    <tr>\n",
       "      <td>0</td>\n",
       "      <td>001</td>\n",
       "      <td>NaN</td>\n",
       "      <td>NaN</td>\n",
       "      <td>NaN</td>\n",
       "      <td>15.0</td>\n",
       "      <td>0.072470</td>\n",
       "    </tr>\n",
       "    <tr>\n",
       "      <td>1</td>\n",
       "      <td>001</td>\n",
       "      <td>NaN</td>\n",
       "      <td>NaN</td>\n",
       "      <td>NaN</td>\n",
       "      <td>15.0</td>\n",
       "      <td>0.148405</td>\n",
       "    </tr>\n",
       "    <tr>\n",
       "      <td>2</td>\n",
       "      <td>001</td>\n",
       "      <td>NaN</td>\n",
       "      <td>NaN</td>\n",
       "      <td>NaN</td>\n",
       "      <td>15.0</td>\n",
       "      <td>-0.005984</td>\n",
       "    </tr>\n",
       "    <tr>\n",
       "      <td>3</td>\n",
       "      <td>001</td>\n",
       "      <td>NaN</td>\n",
       "      <td>NaN</td>\n",
       "      <td>NaN</td>\n",
       "      <td>15.0</td>\n",
       "      <td>0.080193</td>\n",
       "    </tr>\n",
       "    <tr>\n",
       "      <td>4</td>\n",
       "      <td>001</td>\n",
       "      <td>NaN</td>\n",
       "      <td>NaN</td>\n",
       "      <td>NaN</td>\n",
       "      <td>15.0</td>\n",
       "      <td>-0.012642</td>\n",
       "    </tr>\n",
       "    <tr>\n",
       "      <td>...</td>\n",
       "      <td>...</td>\n",
       "      <td>...</td>\n",
       "      <td>...</td>\n",
       "      <td>...</td>\n",
       "      <td>...</td>\n",
       "      <td>...</td>\n",
       "    </tr>\n",
       "    <tr>\n",
       "      <td>2995</td>\n",
       "      <td>150</td>\n",
       "      <td>7.532349</td>\n",
       "      <td>-19.093628</td>\n",
       "      <td>10.895630</td>\n",
       "      <td>7.5</td>\n",
       "      <td>NaN</td>\n",
       "    </tr>\n",
       "    <tr>\n",
       "      <td>2996</td>\n",
       "      <td>150</td>\n",
       "      <td>0.965942</td>\n",
       "      <td>-17.371948</td>\n",
       "      <td>15.620239</td>\n",
       "      <td>7.5</td>\n",
       "      <td>NaN</td>\n",
       "    </tr>\n",
       "    <tr>\n",
       "      <td>2997</td>\n",
       "      <td>150</td>\n",
       "      <td>-4.919800</td>\n",
       "      <td>-14.409058</td>\n",
       "      <td>18.422974</td>\n",
       "      <td>7.5</td>\n",
       "      <td>NaN</td>\n",
       "    </tr>\n",
       "    <tr>\n",
       "      <td>2998</td>\n",
       "      <td>150</td>\n",
       "      <td>-12.687378</td>\n",
       "      <td>-6.120972</td>\n",
       "      <td>17.862427</td>\n",
       "      <td>7.5</td>\n",
       "      <td>NaN</td>\n",
       "    </tr>\n",
       "    <tr>\n",
       "      <td>2999</td>\n",
       "      <td>150</td>\n",
       "      <td>-16.971558</td>\n",
       "      <td>0.845825</td>\n",
       "      <td>15.380005</td>\n",
       "      <td>7.5</td>\n",
       "      <td>NaN</td>\n",
       "    </tr>\n",
       "  </tbody>\n",
       "</table>\n",
       "<p>3000 rows × 6 columns</p>\n",
       "</div>"
      ],
      "text/plain": [
       "     File_name  R_Current  S_Current  T_Current    kw     value\n",
       "0          001        NaN        NaN        NaN  15.0  0.072470\n",
       "1          001        NaN        NaN        NaN  15.0  0.148405\n",
       "2          001        NaN        NaN        NaN  15.0 -0.005984\n",
       "3          001        NaN        NaN        NaN  15.0  0.080193\n",
       "4          001        NaN        NaN        NaN  15.0 -0.012642\n",
       "...        ...        ...        ...        ...   ...       ...\n",
       "2995       150   7.532349 -19.093628  10.895630   7.5       NaN\n",
       "2996       150   0.965942 -17.371948  15.620239   7.5       NaN\n",
       "2997       150  -4.919800 -14.409058  18.422974   7.5       NaN\n",
       "2998       150 -12.687378  -6.120972  17.862427   7.5       NaN\n",
       "2999       150 -16.971558   0.845825  15.380005   7.5       NaN\n",
       "\n",
       "[3000 rows x 6 columns]"
      ]
     },
     "execution_count": 358,
     "metadata": {},
     "output_type": "execute_result"
    }
   ],
   "source": [
    "Current_test"
   ]
  },
  {
   "cell_type": "code",
   "execution_count": 178,
   "metadata": {},
   "outputs": [],
   "source": [
    "# 카테고리가 Kimm(유선진동)인 데이터들의 파일 링크를 불러옵니다.\n",
    "Kimm_test_links=[]\n",
    "Kimm_test_numbers = Submission_Commit[Submission_Commit['Category']=='Kimm']['File_name'].values\n",
    "Kimm_test_mot = Submission_Commit[Submission_Commit['Category']=='Kimm']['Motor'].values\n",
    "\n",
    "for i in Kimm_test_numbers:\n",
    "    a = glob.glob('dataSet_Submission_Re/'+str(i)+'.csv')\n",
    "    a = str(a).replace(\"[\", \"\").replace(\"]\",\"\").replace(\"'\",\"\")\n",
    "    Kimm_test_links.append(a)"
   ]
  },
  {
   "cell_type": "code",
   "execution_count": 348,
   "metadata": {},
   "outputs": [],
   "source": [
    "# Kimm 에 해당하는 Test 데이터의 셋을 데이터프레임화 합니다.\n",
    "for i in range(0,len(Kimm_test_links)):\n",
    "    df=pd.read_csv(Kimm_test_links[i],names=['s','value'],skiprows=1 )\n",
    "    df['kw']=pd.to_numeric(Kimm_test_mot[i])\n",
    "    df['File_name']=pd.to_numeric(Kimm_test_numbers[i])\n",
    "    df.drop(['s'],axis=1,inplace=True)\n",
    "    globals()['df_{}'.format(i)]=df"
   ]
  },
  {
   "cell_type": "code",
   "execution_count": 350,
   "metadata": {},
   "outputs": [],
   "source": [
    "Kimm_test= pd.concat([df_0,df_1,df_2,df_3,df_4,df_5,df_6,df_7,df_8,df_9,df_10,df_11,df_12,df_13,df_14,df_15,df_16,df_17,df_18,df_19,df_20,df_21,df_22,df_23,df_24,df_25,df_26,df_27,df_28,df_29,df_30,df_31,df_32,df_33,df_34,df_35,df_36,df_37,df_38,df_39,df_40,df_41,df_42,df_43,df_44]).reset_index(drop=True)\n",
    "Kimm_test['File_name']=Kimm_test['File_name'].astype(str).str.zfill(3)"
   ]
  },
  {
   "cell_type": "code",
   "execution_count": 194,
   "metadata": {},
   "outputs": [],
   "source": [
    "# 카테고리가 Vibration(무선진동)인 데이터들의 파일 링크를 불러옵니다.\n",
    "Vibration_test_links=[]\n",
    "Vibration_test_numbers = Submission_Commit[Submission_Commit['Category']=='Vibration']['File_name'].values\n",
    "Vibration_test_mot = Submission_Commit[Submission_Commit['Category']=='Vibration']['Motor'].values\n",
    "\n",
    "for i in Vibration_test_numbers:\n",
    "    a = glob.glob('dataSet_Submission_Re/'+str(i)+'.csv')\n",
    "    a = str(a).replace(\"[\", \"\").replace(\"]\",\"\").replace(\"'\",\"\")\n",
    "    Vibration_test_links.append(a)"
   ]
  },
  {
   "cell_type": "code",
   "execution_count": 369,
   "metadata": {},
   "outputs": [],
   "source": [
    "# Vibration 에 해당하는 Test 데이터의 셋을 데이터프레임화 합니다.\n",
    "for i in range(0,len(Vibration_test_links)):\n",
    "    df=pd.read_csv(Vibration_test_links[i],names=['s','value'],skiprows=1 )\n",
    "    df['kw']=pd.to_numeric(Vibration_test_mot[i])\n",
    "    df['File_name']=pd.to_numeric(Vibration_test_numbers[i])\n",
    "    df.drop(['s'],axis=1,inplace=True)\n",
    "    globals()['df_{}'.format(i)]=df"
   ]
  },
  {
   "cell_type": "code",
   "execution_count": 371,
   "metadata": {},
   "outputs": [],
   "source": [
    "Vibration_test= pd.concat([df_0,df_1,df_2,df_3,df_4,df_5,df_6,df_7,df_8,df_9,df_10,df_11,df_12,df_13,df_14,df_15,df_16,df_17,df_18,df_19,df_20,df_21,df_22,df_23,df_24,df_25,df_26,df_27,df_28,df_29,df_30,df_31,df_32,df_33,df_34,df_35,df_36,df_37,df_38,df_39,df_40,df_41,df_42,df_43,df_44,df_45,df_46,df_47,df_48,df_49,df_50,df_51,df_52,df_53,df_54,df_55]).reset_index(drop=True)\n",
    "Vibration_test['File_name']=Vibration_test['File_name'].astype(str).str.zfill(3)"
   ]
  },
  {
   "cell_type": "markdown",
   "metadata": {},
   "source": [
    "# Current 데이터"
   ]
  },
  {
   "cell_type": "markdown",
   "metadata": {},
   "source": [
    "### Current(전류) 데이터 전처리"
   ]
  },
  {
   "cell_type": "code",
   "execution_count": 201,
   "metadata": {},
   "outputs": [],
   "source": [
    "# 각 label 명을 지정합니다.\n",
    "DF_cubea['Label']='bearing'\n",
    "DF_cubel['Label']='belt'\n",
    "DF_cumis['Label']='misalignment'\n",
    "DF_cuunb['Label']='unbalance'"
   ]
  },
  {
   "cell_type": "code",
   "execution_count": 46,
   "metadata": {},
   "outputs": [],
   "source": [
    "# label 별로 나뉘어져 있는 데이터 프레임을 하나의 DF_Current 프레임으로 합칩니다.\n",
    "DF_Current = pd.concat([DF_cubea,DF_cubel,DF_cumis,DF_cuunb]).reset_index(drop=True)"
   ]
  },
  {
   "cell_type": "code",
   "execution_count": 47,
   "metadata": {},
   "outputs": [
    {
     "data": {
      "text/html": [
       "<div>\n",
       "<style scoped>\n",
       "    .dataframe tbody tr th:only-of-type {\n",
       "        vertical-align: middle;\n",
       "    }\n",
       "\n",
       "    .dataframe tbody tr th {\n",
       "        vertical-align: top;\n",
       "    }\n",
       "\n",
       "    .dataframe thead th {\n",
       "        text-align: right;\n",
       "    }\n",
       "</style>\n",
       "<table border=\"1\" class=\"dataframe\">\n",
       "  <thead>\n",
       "    <tr style=\"text-align: right;\">\n",
       "      <th></th>\n",
       "      <th>R_Current</th>\n",
       "      <th>S_Current</th>\n",
       "      <th>T_Current</th>\n",
       "      <th>kw</th>\n",
       "      <th>op_or_no</th>\n",
       "      <th>Label</th>\n",
       "      <th>Target</th>\n",
       "    </tr>\n",
       "  </thead>\n",
       "  <tbody>\n",
       "    <tr>\n",
       "      <td>0</td>\n",
       "      <td>-3.868774</td>\n",
       "      <td>3.978882</td>\n",
       "      <td>-0.745728</td>\n",
       "      <td>2.2</td>\n",
       "      <td>op</td>\n",
       "      <td>bearing</td>\n",
       "      <td>normal</td>\n",
       "    </tr>\n",
       "    <tr>\n",
       "      <td>1</td>\n",
       "      <td>-4.229126</td>\n",
       "      <td>3.778687</td>\n",
       "      <td>-0.145142</td>\n",
       "      <td>2.2</td>\n",
       "      <td>op</td>\n",
       "      <td>bearing</td>\n",
       "      <td>normal</td>\n",
       "    </tr>\n",
       "    <tr>\n",
       "      <td>2</td>\n",
       "      <td>-4.189087</td>\n",
       "      <td>2.737671</td>\n",
       "      <td>0.975952</td>\n",
       "      <td>2.2</td>\n",
       "      <td>op</td>\n",
       "      <td>bearing</td>\n",
       "      <td>normal</td>\n",
       "    </tr>\n",
       "    <tr>\n",
       "      <td>3</td>\n",
       "      <td>-4.389282</td>\n",
       "      <td>2.257202</td>\n",
       "      <td>1.696655</td>\n",
       "      <td>2.2</td>\n",
       "      <td>op</td>\n",
       "      <td>bearing</td>\n",
       "      <td>normal</td>\n",
       "    </tr>\n",
       "    <tr>\n",
       "      <td>4</td>\n",
       "      <td>-4.349243</td>\n",
       "      <td>1.456421</td>\n",
       "      <td>2.617554</td>\n",
       "      <td>2.2</td>\n",
       "      <td>op</td>\n",
       "      <td>bearing</td>\n",
       "      <td>normal</td>\n",
       "    </tr>\n",
       "    <tr>\n",
       "      <td>...</td>\n",
       "      <td>...</td>\n",
       "      <td>...</td>\n",
       "      <td>...</td>\n",
       "      <td>...</td>\n",
       "      <td>...</td>\n",
       "      <td>...</td>\n",
       "      <td>...</td>\n",
       "    </tr>\n",
       "    <tr>\n",
       "      <td>2303995</td>\n",
       "      <td>-0.280273</td>\n",
       "      <td>-0.280273</td>\n",
       "      <td>-0.240234</td>\n",
       "      <td>55.0</td>\n",
       "      <td>no</td>\n",
       "      <td>unbalance</td>\n",
       "      <td>unbalance</td>\n",
       "    </tr>\n",
       "    <tr>\n",
       "      <td>2303996</td>\n",
       "      <td>-0.280273</td>\n",
       "      <td>-0.200195</td>\n",
       "      <td>-0.200195</td>\n",
       "      <td>55.0</td>\n",
       "      <td>no</td>\n",
       "      <td>unbalance</td>\n",
       "      <td>unbalance</td>\n",
       "    </tr>\n",
       "    <tr>\n",
       "      <td>2303997</td>\n",
       "      <td>-0.280273</td>\n",
       "      <td>-0.200195</td>\n",
       "      <td>-0.200195</td>\n",
       "      <td>55.0</td>\n",
       "      <td>no</td>\n",
       "      <td>unbalance</td>\n",
       "      <td>unbalance</td>\n",
       "    </tr>\n",
       "    <tr>\n",
       "      <td>2303998</td>\n",
       "      <td>-0.280273</td>\n",
       "      <td>-0.200195</td>\n",
       "      <td>-0.200195</td>\n",
       "      <td>55.0</td>\n",
       "      <td>no</td>\n",
       "      <td>unbalance</td>\n",
       "      <td>unbalance</td>\n",
       "    </tr>\n",
       "    <tr>\n",
       "      <td>2303999</td>\n",
       "      <td>-0.280273</td>\n",
       "      <td>-0.200195</td>\n",
       "      <td>-0.200195</td>\n",
       "      <td>55.0</td>\n",
       "      <td>no</td>\n",
       "      <td>unbalance</td>\n",
       "      <td>unbalance</td>\n",
       "    </tr>\n",
       "  </tbody>\n",
       "</table>\n",
       "<p>2304000 rows × 7 columns</p>\n",
       "</div>"
      ],
      "text/plain": [
       "         R_Current  S_Current  T_Current    kw op_or_no      Label     Target\n",
       "0        -3.868774   3.978882  -0.745728   2.2       op    bearing     normal\n",
       "1        -4.229126   3.778687  -0.145142   2.2       op    bearing     normal\n",
       "2        -4.189087   2.737671   0.975952   2.2       op    bearing     normal\n",
       "3        -4.389282   2.257202   1.696655   2.2       op    bearing     normal\n",
       "4        -4.349243   1.456421   2.617554   2.2       op    bearing     normal\n",
       "...            ...        ...        ...   ...      ...        ...        ...\n",
       "2303995  -0.280273  -0.280273  -0.240234  55.0       no  unbalance  unbalance\n",
       "2303996  -0.280273  -0.200195  -0.200195  55.0       no  unbalance  unbalance\n",
       "2303997  -0.280273  -0.200195  -0.200195  55.0       no  unbalance  unbalance\n",
       "2303998  -0.280273  -0.200195  -0.200195  55.0       no  unbalance  unbalance\n",
       "2303999  -0.280273  -0.200195  -0.200195  55.0       no  unbalance  unbalance\n",
       "\n",
       "[2304000 rows x 7 columns]"
      ]
     },
     "execution_count": 47,
     "metadata": {},
     "output_type": "execute_result"
    }
   ],
   "source": [
    "#타겟값(목표값)을 형성합니다.\n",
    "DF_Current['Target']=DF_Current['Label']\n",
    "DF_Current.loc[(DF_Current.op_or_no=='op'),'Target']='normal'\n",
    "DF_Current"
   ]
  },
  {
   "cell_type": "code",
   "execution_count": 48,
   "metadata": {},
   "outputs": [],
   "source": [
    "# label값, op_or_no값에 대해 인코딩을 합니다. 또한 목표값이 될 label값을 Target으로 지정합니다.\n",
    "from sklearn import preprocessing\n",
    "le = preprocessing.LabelEncoder()\n",
    "\n",
    "le = le.fit(DF_Current['op_or_no'])\n",
    "DF_Current['op_or_no'] = le.transform(DF_Current['op_or_no'])\n",
    "\n",
    "le = le.fit(DF_Current['Target'])\n",
    "DF_Current['Target'] = le.transform(DF_Current['Target'])\n",
    "\n",
    "DF_Current=pd.get_dummies(DF_Current)"
   ]
  },
  {
   "cell_type": "code",
   "execution_count": 49,
   "metadata": {},
   "outputs": [
    {
     "data": {
      "text/plain": [
       "array(['bearing', 'belt', 'misalignment', 'normal', 'unbalance'],\n",
       "      dtype=object)"
      ]
     },
     "execution_count": 49,
     "metadata": {},
     "output_type": "execute_result"
    }
   ],
   "source": [
    "# 인코딩한 label값이 각각 무엇을 의미하는지 확인합니다.\n",
    "le.classes_\n",
    "le.inverse_transform([0,1,2,3,4])"
   ]
  },
  {
   "cell_type": "code",
   "execution_count": 50,
   "metadata": {},
   "outputs": [
    {
     "name": "stdout",
     "output_type": "stream",
     "text": [
      "3    1152000\n",
      "2     324000\n",
      "1     324000\n",
      "4     252000\n",
      "0     252000\n",
      "Name: Target, dtype: int64\n",
      "1    1152000\n",
      "0    1152000\n",
      "Name: op_or_no, dtype: int64\n"
     ]
    }
   ],
   "source": [
    "# 데이터의 분포를 확인합니다.\n",
    "print(DF_Current['Target'].value_counts())\n",
    "print(DF_Current['op_or_no'].value_counts())"
   ]
  },
  {
   "cell_type": "code",
   "execution_count": 21,
   "metadata": {},
   "outputs": [
    {
     "data": {
      "text/plain": [
       "<matplotlib.legend.Legend at 0x1c586294c48>"
      ]
     },
     "execution_count": 21,
     "metadata": {},
     "output_type": "execute_result"
    },
    {
     "data": {
      "image/png": "[encoded data removed]",
      "text/plain": [
       "<Figure size 432x288 with 1 Axes>"
      ]
     },
     "metadata": {
      "needs_background": "light"
     },
     "output_type": "display_data"
    }
   ],
   "source": [
    "# 데이터의 분포를 확인합니다.\n",
    "plt.scatter(DF_Current['R_Current'],DF_Current['Target'],label='R')\n",
    "plt.scatter(DF_Current['S_Current'],DF_Current['Target'],label='S')\n",
    "plt.scatter(DF_Current['T_Current'],DF_Current['Target'],label='T')\n",
    "plt.legend()"
   ]
  },
  {
   "cell_type": "code",
   "execution_count": 202,
   "metadata": {},
   "outputs": [],
   "source": [
    "# 랜덤하게 Train, Validation 데이터를 7:3 비율로 나눕니다.\n",
    "from sklearn.datasets import load_digits\n",
    "from sklearn.model_selection import train_test_split\n",
    "from sklearn.base import BaseEstimator\n",
    "from sklearn.metrics import accuracy_score\n",
    "\n",
    "X_df = DF_Current.drop(['Target','Label_bearing','Label_belt','Label_misalignment','Label_unbalance','op_or_no'],axis=1)\n",
    "y_df = DF_Current['Target']\n",
    "X_train, X_val, y_train, y_val = train_test_split(X_df, y_df, test_size=0.3)"
   ]
  },
  {
   "cell_type": "code",
   "execution_count": 204,
   "metadata": {},
   "outputs": [
    {
     "ename": "NameError",
     "evalue": "name 'y_test' is not defined",
     "output_type": "error",
     "traceback": [
      "\u001b[1;31m---------------------------------------------------------------------------\u001b[0m",
      "\u001b[1;31mNameError\u001b[0m                                 Traceback (most recent call last)",
      "\u001b[1;32m<ipython-input-204-aee415dce7e5>\u001b[0m in \u001b[0;36m<module>\u001b[1;34m\u001b[0m\n\u001b[0;32m     10\u001b[0m \u001b[0mrf_clf\u001b[0m\u001b[1;33m.\u001b[0m\u001b[0mfit\u001b[0m\u001b[1;33m(\u001b[0m\u001b[0mX_train\u001b[0m \u001b[1;33m,\u001b[0m \u001b[0my_train\u001b[0m\u001b[1;33m)\u001b[0m\u001b[1;33m\u001b[0m\u001b[1;33m\u001b[0m\u001b[0m\n\u001b[0;32m     11\u001b[0m \u001b[0mpred\u001b[0m \u001b[1;33m=\u001b[0m \u001b[0mrf_clf\u001b[0m\u001b[1;33m.\u001b[0m\u001b[0mpredict\u001b[0m\u001b[1;33m(\u001b[0m\u001b[0mX_val\u001b[0m\u001b[1;33m)\u001b[0m\u001b[1;33m\u001b[0m\u001b[1;33m\u001b[0m\u001b[0m\n\u001b[1;32m---> 12\u001b[1;33m \u001b[0maccuracy\u001b[0m \u001b[1;33m=\u001b[0m \u001b[0maccuracy_score\u001b[0m\u001b[1;33m(\u001b[0m\u001b[0my_test\u001b[0m \u001b[1;33m,\u001b[0m \u001b[0mpred\u001b[0m\u001b[1;33m)\u001b[0m\u001b[1;33m\u001b[0m\u001b[1;33m\u001b[0m\u001b[0m\n\u001b[0m\u001b[0;32m     13\u001b[0m \u001b[0mprint\u001b[0m\u001b[1;33m(\u001b[0m\u001b[1;34m'정확도: {0:.4f}'\u001b[0m\u001b[1;33m.\u001b[0m\u001b[0mformat\u001b[0m\u001b[1;33m(\u001b[0m\u001b[0maccuracy\u001b[0m\u001b[1;33m)\u001b[0m\u001b[1;33m)\u001b[0m\u001b[1;33m\u001b[0m\u001b[1;33m\u001b[0m\u001b[0m\n",
      "\u001b[1;31mNameError\u001b[0m: name 'y_test' is not defined"
     ]
    }
   ],
   "source": [
    "# random forest를 이용해 모델링합니다\n",
    "from sklearn.ensemble import RandomForestClassifier\n",
    "from sklearn.model_selection import train_test_split\n",
    "from sklearn.metrics import accuracy_score\n",
    "import pandas as pd\n",
    "import warnings\n",
    "warnings.filterwarnings('ignore')\n",
    "\n",
    "rf_clf = RandomForestClassifier(n_estimators=100)\n",
    "rf_clf.fit(X_train , y_train)"
   ]
  },
  {
   "cell_type": "code",
   "execution_count": 205,
   "metadata": {},
   "outputs": [
    {
     "name": "stdout",
     "output_type": "stream",
     "text": [
      "정확도: 0.9964\n"
     ]
    }
   ],
   "source": [
    "pred = rf_clf.predict(X_val)\n",
    "accuracy = accuracy_score(y_val , pred)\n",
    "print('정확도: {0:.4f}'.format(accuracy))"
   ]
  },
  {
   "cell_type": "markdown",
   "metadata": {},
   "source": [
    "## Current(전류) 테스트"
   ]
  },
  {
   "cell_type": "code",
   "execution_count": 295,
   "metadata": {},
   "outputs": [
    {
     "data": {
      "text/html": [
       "<div>\n",
       "<style scoped>\n",
       "    .dataframe tbody tr th:only-of-type {\n",
       "        vertical-align: middle;\n",
       "    }\n",
       "\n",
       "    .dataframe tbody tr th {\n",
       "        vertical-align: top;\n",
       "    }\n",
       "\n",
       "    .dataframe thead th {\n",
       "        text-align: right;\n",
       "    }\n",
       "</style>\n",
       "<table border=\"1\" class=\"dataframe\">\n",
       "  <thead>\n",
       "    <tr style=\"text-align: right;\">\n",
       "      <th></th>\n",
       "      <th>R_Current</th>\n",
       "      <th>S_Current</th>\n",
       "      <th>T_Current</th>\n",
       "      <th>kw</th>\n",
       "      <th>File_name</th>\n",
       "      <th>Target</th>\n",
       "    </tr>\n",
       "  </thead>\n",
       "  <tbody>\n",
       "    <tr>\n",
       "      <td>0</td>\n",
       "      <td>0.120117</td>\n",
       "      <td>-0.280273</td>\n",
       "      <td>0.0</td>\n",
       "      <td>5.5</td>\n",
       "      <td>004</td>\n",
       "      <td>1</td>\n",
       "    </tr>\n",
       "    <tr>\n",
       "      <td>1</td>\n",
       "      <td>0.120117</td>\n",
       "      <td>-0.280273</td>\n",
       "      <td>0.0</td>\n",
       "      <td>5.5</td>\n",
       "      <td>004</td>\n",
       "      <td>1</td>\n",
       "    </tr>\n",
       "  </tbody>\n",
       "</table>\n",
       "</div>"
      ],
      "text/plain": [
       "   R_Current  S_Current  T_Current   kw File_name  Target\n",
       "0   0.120117  -0.280273        0.0  5.5       004       1\n",
       "1   0.120117  -0.280273        0.0  5.5       004       1"
      ]
     },
     "execution_count": 295,
     "metadata": {},
     "output_type": "execute_result"
    }
   ],
   "source": [
    "pred = rf_clf.predict(Current_test.drop(['File_name'],axis=1))\n",
    "Current_test['Target']=pd.DataFrame(pred)\n",
    "Current_test.head(2)"
   ]
  },
  {
   "cell_type": "code",
   "execution_count": 298,
   "metadata": {},
   "outputs": [
    {
     "name": "stdout",
     "output_type": "stream",
     "text": [
      "004 ['belt']\n",
      "006 ['normal']\n",
      "013 ['normal']\n",
      "017 ['misalignment']\n",
      "022 ['bearing']\n",
      "031 ['normal']\n",
      "034 ['unbalance']\n",
      "035 ['misalignment']\n",
      "037 ['belt']\n",
      "040 ['misalignment']\n",
      "042 ['belt']\n",
      "047 ['normal']\n",
      "050 ['misalignment']\n",
      "055 ['misalignment']\n",
      "060 ['unbalance']\n",
      "061 ['belt']\n",
      "065 ['misalignment']\n",
      "067 ['unbalance']\n",
      "068 ['unbalance']\n",
      "075 ['unbalance']\n",
      "076 ['misalignment']\n",
      "078 ['belt']\n",
      "080 ['belt']\n",
      "081 ['belt']\n",
      "087 ['belt']\n",
      "089 ['unbalance']\n",
      "093 ['bearing']\n",
      "095 ['misalignment']\n",
      "097 ['normal']\n",
      "098 ['unbalance']\n",
      "101 ['normal']\n",
      "103 ['normal']\n",
      "105 ['normal']\n",
      "107 ['normal']\n",
      "111 ['normal']\n",
      "112 ['normal']\n",
      "115 ['normal']\n",
      "116 ['normal']\n",
      "118 ['normal']\n",
      "121 ['normal']\n",
      "124 ['normal']\n",
      "126 ['normal']\n",
      "136 ['normal']\n",
      "138 ['normal']\n",
      "139 ['normal']\n",
      "145 ['normal']\n",
      "146 ['normal']\n",
      "147 ['normal']\n",
      "150 ['normal']\n"
     ]
    }
   ],
   "source": [
    "Current_test['File_name'].unique()\n",
    "for i,n in zip(range(0,len(Current_test['File_name'].unique())),Current_test['File_name'].unique()):\n",
    "    print(n, le.inverse_transform([Current_test[Current_test['File_name']==n]['Target'].mode()]))"
   ]
  },
  {
   "cell_type": "markdown",
   "metadata": {},
   "source": [
    "## Kimm(유선진동) 데이터 전처리"
   ]
  },
  {
   "cell_type": "code",
   "execution_count": 299,
   "metadata": {},
   "outputs": [],
   "source": [
    "# 각 label 명을 지정합니다.\n",
    "DF_kibea['Label']='bearing'\n",
    "DF_kibel['Label']='belt'\n",
    "DF_kimis['Label']='misalignment'\n",
    "DF_kiunb['Label']='unbalance'"
   ]
  },
  {
   "cell_type": "code",
   "execution_count": 300,
   "metadata": {},
   "outputs": [],
   "source": [
    "# label 별로 나뉘어져 있는 데이터 프레임을 하나의 DF_Current 프레임으로 합칩니다.\n",
    "DF_Kimm = pd.concat([DF_kibea,DF_kibel,DF_kimis,DF_kiunb]).reset_index(drop=True)"
   ]
  },
  {
   "cell_type": "code",
   "execution_count": 301,
   "metadata": {},
   "outputs": [
    {
     "data": {
      "text/html": [
       "<div>\n",
       "<style scoped>\n",
       "    .dataframe tbody tr th:only-of-type {\n",
       "        vertical-align: middle;\n",
       "    }\n",
       "\n",
       "    .dataframe tbody tr th {\n",
       "        vertical-align: top;\n",
       "    }\n",
       "\n",
       "    .dataframe thead th {\n",
       "        text-align: right;\n",
       "    }\n",
       "</style>\n",
       "<table border=\"1\" class=\"dataframe\">\n",
       "  <thead>\n",
       "    <tr style=\"text-align: right;\">\n",
       "      <th></th>\n",
       "      <th>Kimm</th>\n",
       "      <th>kw</th>\n",
       "      <th>op_or_no</th>\n",
       "      <th>Label</th>\n",
       "      <th>Target</th>\n",
       "    </tr>\n",
       "  </thead>\n",
       "  <tbody>\n",
       "    <tr>\n",
       "      <td>0</td>\n",
       "      <td>-0.006109</td>\n",
       "      <td>2.2</td>\n",
       "      <td>op</td>\n",
       "      <td>bearing</td>\n",
       "      <td>normal</td>\n",
       "    </tr>\n",
       "    <tr>\n",
       "      <td>1</td>\n",
       "      <td>0.000533</td>\n",
       "      <td>2.2</td>\n",
       "      <td>op</td>\n",
       "      <td>bearing</td>\n",
       "      <td>normal</td>\n",
       "    </tr>\n",
       "    <tr>\n",
       "      <td>2</td>\n",
       "      <td>0.002906</td>\n",
       "      <td>2.2</td>\n",
       "      <td>op</td>\n",
       "      <td>bearing</td>\n",
       "      <td>normal</td>\n",
       "    </tr>\n",
       "    <tr>\n",
       "      <td>3</td>\n",
       "      <td>-0.001557</td>\n",
       "      <td>2.2</td>\n",
       "      <td>op</td>\n",
       "      <td>bearing</td>\n",
       "      <td>normal</td>\n",
       "    </tr>\n",
       "    <tr>\n",
       "      <td>4</td>\n",
       "      <td>-0.001890</td>\n",
       "      <td>2.2</td>\n",
       "      <td>op</td>\n",
       "      <td>bearing</td>\n",
       "      <td>normal</td>\n",
       "    </tr>\n",
       "    <tr>\n",
       "      <td>...</td>\n",
       "      <td>...</td>\n",
       "      <td>...</td>\n",
       "      <td>...</td>\n",
       "      <td>...</td>\n",
       "      <td>...</td>\n",
       "    </tr>\n",
       "    <tr>\n",
       "      <td>4607995</td>\n",
       "      <td>0.006238</td>\n",
       "      <td>55.0</td>\n",
       "      <td>no</td>\n",
       "      <td>unbalance</td>\n",
       "      <td>unbalance</td>\n",
       "    </tr>\n",
       "    <tr>\n",
       "      <td>4607996</td>\n",
       "      <td>-0.003397</td>\n",
       "      <td>55.0</td>\n",
       "      <td>no</td>\n",
       "      <td>unbalance</td>\n",
       "      <td>unbalance</td>\n",
       "    </tr>\n",
       "    <tr>\n",
       "      <td>4607997</td>\n",
       "      <td>-0.005848</td>\n",
       "      <td>55.0</td>\n",
       "      <td>no</td>\n",
       "      <td>unbalance</td>\n",
       "      <td>unbalance</td>\n",
       "    </tr>\n",
       "    <tr>\n",
       "      <td>4607998</td>\n",
       "      <td>0.001756</td>\n",
       "      <td>55.0</td>\n",
       "      <td>no</td>\n",
       "      <td>unbalance</td>\n",
       "      <td>unbalance</td>\n",
       "    </tr>\n",
       "    <tr>\n",
       "      <td>4607999</td>\n",
       "      <td>0.010466</td>\n",
       "      <td>55.0</td>\n",
       "      <td>no</td>\n",
       "      <td>unbalance</td>\n",
       "      <td>unbalance</td>\n",
       "    </tr>\n",
       "  </tbody>\n",
       "</table>\n",
       "<p>4608000 rows × 5 columns</p>\n",
       "</div>"
      ],
      "text/plain": [
       "             Kimm    kw op_or_no      Label     Target\n",
       "0       -0.006109   2.2       op    bearing     normal\n",
       "1        0.000533   2.2       op    bearing     normal\n",
       "2        0.002906   2.2       op    bearing     normal\n",
       "3       -0.001557   2.2       op    bearing     normal\n",
       "4       -0.001890   2.2       op    bearing     normal\n",
       "...           ...   ...      ...        ...        ...\n",
       "4607995  0.006238  55.0       no  unbalance  unbalance\n",
       "4607996 -0.003397  55.0       no  unbalance  unbalance\n",
       "4607997 -0.005848  55.0       no  unbalance  unbalance\n",
       "4607998  0.001756  55.0       no  unbalance  unbalance\n",
       "4607999  0.010466  55.0       no  unbalance  unbalance\n",
       "\n",
       "[4608000 rows x 5 columns]"
      ]
     },
     "execution_count": 301,
     "metadata": {},
     "output_type": "execute_result"
    }
   ],
   "source": [
    "#타겟값(목표값)을 형성합니다.\n",
    "DF_Kimm['Target']=DF_Kimm['Label']\n",
    "DF_Kimm.loc[(DF_Kimm.op_or_no=='op'),'Target']='normal'\n",
    "DF_Kimm"
   ]
  },
  {
   "cell_type": "code",
   "execution_count": 302,
   "metadata": {},
   "outputs": [],
   "source": [
    "# label값, op_or_no값에 대해 인코딩을 합니다. 또한 목표값이 될 label값을 Target으로 지정합니다.\n",
    "from sklearn import preprocessing\n",
    "le = preprocessing.LabelEncoder()\n",
    "\n",
    "le = le.fit(DF_Kimm['op_or_no'])\n",
    "DF_Kimm['op_or_no'] = le.transform(DF_Kimm['op_or_no'])\n",
    "\n",
    "le = le.fit(DF_Kimm['Target'])\n",
    "DF_Kimm['Target'] = le.transform(DF_Kimm['Target'])\n",
    "\n",
    "DF_Kimm=pd.get_dummies(DF_Kimm)"
   ]
  },
  {
   "cell_type": "code",
   "execution_count": 303,
   "metadata": {},
   "outputs": [
    {
     "data": {
      "text/plain": [
       "array(['bearing', 'belt', 'misalignment', 'normal', 'unbalance'],\n",
       "      dtype=object)"
      ]
     },
     "execution_count": 303,
     "metadata": {},
     "output_type": "execute_result"
    }
   ],
   "source": [
    "# 인코딩한 label값이 각각 무엇을 의미하는지 확인합니다.\n",
    "le.inverse_transform([0,1,2,3,4])"
   ]
  },
  {
   "cell_type": "code",
   "execution_count": 304,
   "metadata": {},
   "outputs": [
    {
     "name": "stdout",
     "output_type": "stream",
     "text": [
      "3    2304000\n",
      "2     648000\n",
      "1     648000\n",
      "4     504000\n",
      "0     504000\n",
      "Name: Target, dtype: int64\n",
      "1    2304000\n",
      "0    2304000\n",
      "Name: op_or_no, dtype: int64\n"
     ]
    }
   ],
   "source": [
    "# 데이터의 분포를 확인합니다.\n",
    "print(DF_Kimm['Target'].value_counts())\n",
    "print(DF_Kimm['op_or_no'].value_counts())"
   ]
  },
  {
   "cell_type": "code",
   "execution_count": 307,
   "metadata": {},
   "outputs": [
    {
     "data": {
      "text/plain": [
       "<matplotlib.legend.Legend at 0x1d3b2c00648>"
      ]
     },
     "execution_count": 307,
     "metadata": {},
     "output_type": "execute_result"
    },
    {
     "data": {
      "image/png": "[encoded data removed]",
      "text/plain": [
       "<Figure size 432x288 with 1 Axes>"
      ]
     },
     "metadata": {
      "needs_background": "light"
     },
     "output_type": "display_data"
    }
   ],
   "source": [
    "# 데이터의 분포를 확인합니다.\n",
    "plt.scatter(DF_Kimm['Kimm'],DF_Kimm['Target'],label='R')\n",
    "plt.legend()"
   ]
  },
  {
   "cell_type": "code",
   "execution_count": 309,
   "metadata": {},
   "outputs": [],
   "source": [
    "# 랜덤하게 Train, Validation 데이터를 7:3 비율로 나눕니다.\n",
    "\n",
    "X_df = DF_Kimm.drop(['Target','Label_bearing','Label_belt','Label_misalignment','Label_unbalance','op_or_no'],axis=1)\n",
    "y_df = DF_Kimm['Target']\n",
    "X_train, X_val, y_train, y_val = train_test_split(X_df, y_df, test_size=0.3)\n",
    "\n",
    "# random forest를 이용해 모델링합니다\n",
    "rf_clf = RandomForestClassifier(n_estimators=100)\n",
    "rf_clf.fit(X_train , y_train)\n",
    "pred = rf_clf.predict(X_val)\n",
    "accuracy = accuracy_score(y_val , pred)"
   ]
  },
  {
   "cell_type": "markdown",
   "metadata": {},
   "source": [
    "## Kimm(유선진동) 테스트"
   ]
  },
  {
   "cell_type": "code",
   "execution_count": 351,
   "metadata": {},
   "outputs": [
    {
     "data": {
      "text/html": [
       "<div>\n",
       "<style scoped>\n",
       "    .dataframe tbody tr th:only-of-type {\n",
       "        vertical-align: middle;\n",
       "    }\n",
       "\n",
       "    .dataframe tbody tr th {\n",
       "        vertical-align: top;\n",
       "    }\n",
       "\n",
       "    .dataframe thead th {\n",
       "        text-align: right;\n",
       "    }\n",
       "</style>\n",
       "<table border=\"1\" class=\"dataframe\">\n",
       "  <thead>\n",
       "    <tr style=\"text-align: right;\">\n",
       "      <th></th>\n",
       "      <th>value</th>\n",
       "      <th>kw</th>\n",
       "      <th>File_name</th>\n",
       "      <th>Target</th>\n",
       "    </tr>\n",
       "  </thead>\n",
       "  <tbody>\n",
       "    <tr>\n",
       "      <td>0</td>\n",
       "      <td>0.072470</td>\n",
       "      <td>15.0</td>\n",
       "      <td>001</td>\n",
       "      <td>3</td>\n",
       "    </tr>\n",
       "    <tr>\n",
       "      <td>1</td>\n",
       "      <td>0.148405</td>\n",
       "      <td>15.0</td>\n",
       "      <td>001</td>\n",
       "      <td>3</td>\n",
       "    </tr>\n",
       "  </tbody>\n",
       "</table>\n",
       "</div>"
      ],
      "text/plain": [
       "      value    kw File_name  Target\n",
       "0  0.072470  15.0       001       3\n",
       "1  0.148405  15.0       001       3"
      ]
     },
     "execution_count": 351,
     "metadata": {},
     "output_type": "execute_result"
    }
   ],
   "source": [
    "Kimm_test=Kimm_test.dropna().reset_index(drop=True)\n",
    "pred = rf_clf.predict(Kimm_test.drop(['File_name'],axis=1))\n",
    "Kimm_test['Target']=pd.DataFrame(pred)\n",
    "Kimm_test.head(2)"
   ]
  },
  {
   "cell_type": "code",
   "execution_count": 352,
   "metadata": {},
   "outputs": [
    {
     "name": "stdout",
     "output_type": "stream",
     "text": [
      "001 ['normal']\n",
      "002 ['normal']\n",
      "007 ['normal']\n",
      "009 ['normal']\n",
      "016 ['normal']\n",
      "018 ['normal']\n",
      "020 ['normal']\n",
      "023 ['normal']\n",
      "024 ['normal']\n",
      "026 ['normal']\n",
      "029 ['normal']\n",
      "041 ['normal']\n",
      "043 ['normal']\n",
      "044 ['normal']\n",
      "049 ['normal']\n",
      "053 ['normal']\n",
      "054 ['normal']\n",
      "057 ['normal']\n",
      "062 ['normal']\n",
      "069 ['normal']\n",
      "072 ['normal']\n",
      "074 ['belt']\n",
      "077 ['normal']\n",
      "079 ['normal']\n",
      "084 ['normal']\n",
      "085 ['normal']\n",
      "086 ['normal']\n",
      "099 ['normal']\n",
      "100 ['normal']\n",
      "106 ['normal']\n",
      "120 ['normal']\n",
      "122 ['normal']\n",
      "123 ['normal']\n",
      "125 ['normal']\n",
      "128 ['normal']\n",
      "130 ['normal']\n",
      "132 ['normal']\n",
      "133 ['normal']\n",
      "134 ['normal']\n",
      "141 ['normal']\n",
      "144 ['normal']\n",
      "149 ['normal']\n"
     ]
    }
   ],
   "source": [
    "for n in np.delete(Kimm_test['File_name'].unique(),4):\n",
    "    print(n, le.inverse_transform([Kimm_test[Kimm_test['File_name']==n]['Target'].mode()]))"
   ]
  },
  {
   "cell_type": "code",
   "execution_count": 325,
   "metadata": {},
   "outputs": [
    {
     "data": {
      "text/plain": [
       "4    22\n",
       "2    22\n",
       "3    13\n",
       "1     3\n",
       "Name: Target, dtype: int64"
      ]
     },
     "execution_count": 325,
     "metadata": {},
     "output_type": "execute_result"
    }
   ],
   "source": [
    "Kimm_test[Kimm_test['File_name']=='016']['Target'].value_counts() # unblance와 belt값이 일치하므로, 맨 위의 값(unbalance)으로 지정"
   ]
  },
  {
   "cell_type": "markdown",
   "metadata": {},
   "source": [
    "## Vibration(무선진동) 데이터 전처리"
   ]
  },
  {
   "cell_type": "code",
   "execution_count": 333,
   "metadata": {},
   "outputs": [],
   "source": [
    "# 각 label 명을 지정합니다.\n",
    "DF_vibea['Label']='bearing'\n",
    "DF_vibel['Label']='belt'\n",
    "DF_vimis['Label']='misalignment'\n",
    "DF_viunb['Label']='unbalance'\n",
    "\n",
    "# label 별로 나뉘어져 있는 데이터 프레임을 하나의 DF_Vibraion 프레임으로 합칩니다.\n",
    "DF_Vibration = pd.concat([DF_vibea,DF_vibel,DF_vimis,DF_viunb]).reset_index(drop=True)\n",
    "#타겟값(목표값)을 형성합니다.\n",
    "DF_Vibration['Target']=DF_Vibration['Label']\n",
    "DF_Vibration.loc[(DF_Vibration.op_or_no=='op'),'Target']='normal'"
   ]
  },
  {
   "cell_type": "code",
   "execution_count": 334,
   "metadata": {},
   "outputs": [],
   "source": [
    "# label값, op_or_no값에 대해 인코딩을 합니다. 또한 목표값이 될 label값을 Target으로 지정합니다.\n",
    "le = le.fit(DF_Vibration['op_or_no'])\n",
    "DF_Vibration['op_or_no'] = le.transform(DF_Vibration['op_or_no'])\n",
    "\n",
    "le = le.fit(DF_Vibration['Target'])\n",
    "DF_Vibration['Target'] = le.transform(DF_Vibration['Target'])\n",
    "\n",
    "DF_Vibration=pd.get_dummies(DF_Vibration)"
   ]
  },
  {
   "cell_type": "code",
   "execution_count": 335,
   "metadata": {},
   "outputs": [
    {
     "data": {
      "text/plain": [
       "array(['bearing', 'belt', 'misalignment', 'normal', 'unbalance'],\n",
       "      dtype=object)"
      ]
     },
     "execution_count": 335,
     "metadata": {},
     "output_type": "execute_result"
    }
   ],
   "source": [
    "# 인코딩한 label값이 각각 무엇을 의미하는지 확인합니다.\n",
    "le.inverse_transform([0,1,2,3,4])"
   ]
  },
  {
   "cell_type": "code",
   "execution_count": 336,
   "metadata": {},
   "outputs": [
    {
     "data": {
      "image/png": "[encoded data removed]",
      "text/plain": [
       "<Figure size 432x288 with 1 Axes>"
      ]
     },
     "metadata": {
      "needs_background": "light"
     },
     "output_type": "display_data"
    }
   ],
   "source": [
    "# 데이터의 분포를 확인합니다.\n",
    "plt.scatter(DF_Vibration['Vibration'],DF_Vibration['Target'],label='V')\n",
    "plt.legend()"
   ]
  },
  {
   "cell_type": "code",
   "execution_count": 339,
   "metadata": {
    "scrolled": true
   },
   "outputs": [],
   "source": [
    "# 랜덤하게 Train, Validation 데이터를 7:3 비율로 나눕니다.\n",
    "X_df = DF_Vibration.drop(['Target','Label_bearing','Label_belt','Label_misalignment','Label_unbalance','op_or_no'],axis=1)\n",
    "y_df = DF_Vibration['Target']\n",
    "X_train, X_val, y_train, y_val = train_test_split(X_df, y_df, test_size=0.3)"
   ]
  },
  {
   "cell_type": "code",
   "execution_count": 340,
   "metadata": {},
   "outputs": [
    {
     "name": "stdout",
     "output_type": "stream",
     "text": [
      "랜덤 포레스트 정확도: 0.9934\n"
     ]
    }
   ],
   "source": [
    "# 랜덤 포레스트 \n",
    "rf_clf = RandomForestClassifier(n_estimators=100)\n",
    "rf_clf.fit(X_train , y_train)\n",
    "pred = rf_clf.predict(X_val)\n",
    "accuracy = accuracy_score(y_val , pred)\n",
    "print('랜덤 포레스트 정확도: {0:.4f}'.format(accuracy))"
   ]
  },
  {
   "cell_type": "markdown",
   "metadata": {},
   "source": [
    "## Vibration(무선진동) 테스트"
   ]
  },
  {
   "cell_type": "code",
   "execution_count": 372,
   "metadata": {},
   "outputs": [
    {
     "data": {
      "text/html": [
       "<div>\n",
       "<style scoped>\n",
       "    .dataframe tbody tr th:only-of-type {\n",
       "        vertical-align: middle;\n",
       "    }\n",
       "\n",
       "    .dataframe tbody tr th {\n",
       "        vertical-align: top;\n",
       "    }\n",
       "\n",
       "    .dataframe thead th {\n",
       "        text-align: right;\n",
       "    }\n",
       "</style>\n",
       "<table border=\"1\" class=\"dataframe\">\n",
       "  <thead>\n",
       "    <tr style=\"text-align: right;\">\n",
       "      <th></th>\n",
       "      <th>value</th>\n",
       "      <th>kw</th>\n",
       "      <th>File_name</th>\n",
       "      <th>Target</th>\n",
       "    </tr>\n",
       "  </thead>\n",
       "  <tbody>\n",
       "    <tr>\n",
       "      <td>0</td>\n",
       "      <td>0.001162</td>\n",
       "      <td>7.5</td>\n",
       "      <td>003</td>\n",
       "      <td>4</td>\n",
       "    </tr>\n",
       "    <tr>\n",
       "      <td>1</td>\n",
       "      <td>0.001894</td>\n",
       "      <td>7.5</td>\n",
       "      <td>003</td>\n",
       "      <td>4</td>\n",
       "    </tr>\n",
       "  </tbody>\n",
       "</table>\n",
       "</div>"
      ],
      "text/plain": [
       "      value   kw File_name  Target\n",
       "0  0.001162  7.5       003       4\n",
       "1  0.001894  7.5       003       4"
      ]
     },
     "execution_count": 372,
     "metadata": {},
     "output_type": "execute_result"
    }
   ],
   "source": [
    "Vibration_test=Vibration_test.dropna().reset_index(drop=True)\n",
    "pred = rf_clf.predict(Vibration_test.drop(['File_name'],axis=1))\n",
    "Vibration_test['Target']=pd.DataFrame(pred)\n",
    "Vibration_test.head(2)"
   ]
  },
  {
   "cell_type": "code",
   "execution_count": 373,
   "metadata": {},
   "outputs": [
    {
     "name": "stdout",
     "output_type": "stream",
     "text": [
      "003 ['unbalance']\n",
      "005 ['bearing']\n",
      "008 ['bearing']\n",
      "010 ['belt']\n",
      "012 ['belt']\n",
      "014 ['misalignment']\n",
      "015 ['bearing']\n",
      "019 ['bearing']\n",
      "021 ['belt']\n",
      "025 ['unbalance']\n",
      "027 ['unbalance']\n",
      "028 ['misalignment']\n",
      "030 ['unbalance']\n",
      "032 ['unbalance']\n",
      "033 ['bearing']\n",
      "036 ['normal']\n",
      "038 ['misalignment']\n",
      "039 ['normal']\n",
      "045 ['bearing']\n",
      "046 ['normal']\n",
      "048 ['bearing']\n",
      "051 ['belt']\n",
      "052 ['misalignment']\n",
      "056 ['unbalance']\n",
      "058 ['misalignment']\n",
      "059 ['unbalance']\n",
      "063 ['unbalance']\n",
      "064 ['belt']\n",
      "066 ['normal']\n",
      "070 ['belt']\n",
      "071 ['unbalance']\n",
      "073 ['bearing']\n",
      "082 ['belt']\n",
      "083 ['unbalance']\n",
      "088 ['belt']\n",
      "090 ['belt']\n",
      "091 ['bearing']\n",
      "092 ['misalignment']\n",
      "094 ['belt']\n",
      "096 ['unbalance']\n",
      "102 ['normal']\n",
      "104 ['normal']\n",
      "108 ['normal']\n",
      "113 ['normal']\n",
      "114 ['normal']\n",
      "117 ['normal']\n",
      "119 ['normal']\n",
      "127 ['normal']\n",
      "129 ['normal']\n",
      "131 ['normal']\n",
      "135 ['normal']\n",
      "137 ['normal']\n",
      "140 ['misalignment']\n",
      "143 ['normal']\n",
      "148 ['normal']\n"
     ]
    }
   ],
   "source": [
    "for i,n in zip(range(0,len(Vibration_test['File_name'].unique())),Vibration_test['File_name'].unique()):\n",
    "    print(n, le.inverse_transform([Vibration_test[Vibration_test['File_name']==n]['Target'].mode()]))"
   ]
  },
  {
   "cell_type": "markdown",
   "metadata": {},
   "source": [
    "## null값 처리"
   ]
  },
  {
   "cell_type": "code",
   "execution_count": 379,
   "metadata": {},
   "outputs": [
    {
     "name": "stdout",
     "output_type": "stream",
     "text": [
      "3    216000\n",
      "4     72000\n",
      "2     72000\n",
      "0     72000\n",
      "Name: Target, dtype: int64\n",
      "3    180000\n",
      "1     72000\n",
      "4     36000\n",
      "2     36000\n",
      "0     36000\n",
      "Name: Target, dtype: int64\n",
      "3    144000\n",
      "4     36000\n",
      "2     36000\n",
      "1     36000\n",
      "0     36000\n",
      "Name: Target, dtype: int64\n"
     ]
    }
   ],
   "source": [
    "#빈 값의 경우, 최빈값 활용\n",
    "\n",
    "print(DF_Kimm[DF_Kimm['kw']==3.7]['Target'].value_counts()) \n",
    "print(DF_Vibration[DF_Vibration['kw']==2.2]['Target'].value_counts())\n",
    "print(DF_Current[DF_Current['kw']==5.5]['Target'].value_counts())"
   ]
  }
 ],
 "metadata": {
  "kernelspec": {
   "display_name": "Python 3",
   "language": "python",
   "name": "python3"
  },
  "language_info": {
   "codemirror_mode": {
    "name": "ipython",
    "version": 3
   },
   "file_extension": ".py",
   "mimetype": "text/x-python",
   "name": "python",
   "nbconvert_exporter": "python",
   "pygments_lexer": "ipython3",
   "version": "3.7.4"
  }
 },
 "nbformat": 4,
 "nbformat_minor": 2
}
